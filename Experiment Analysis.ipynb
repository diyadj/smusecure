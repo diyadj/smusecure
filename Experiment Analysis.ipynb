{
 "cells": [
  {
   "cell_type": "code",
   "execution_count": 1,
   "metadata": {},
   "outputs": [
    {
     "name": "stderr",
     "output_type": "stream",
     "text": [
      "[nltk_data] Downloading package wordnet to\n",
      "[nltk_data]     C:\\Users\\owlzh\\AppData\\Roaming\\nltk_data...\n",
      "[nltk_data]   Package wordnet is already up-to-date!\n",
      "[nltk_data] Downloading package omw-1.4 to\n",
      "[nltk_data]     C:\\Users\\owlzh\\AppData\\Roaming\\nltk_data...\n",
      "[nltk_data]   Package omw-1.4 is already up-to-date!\n",
      "[nltk_data] Downloading package stopwords to\n",
      "[nltk_data]     C:\\Users\\owlzh\\AppData\\Roaming\\nltk_data...\n",
      "[nltk_data]   Package stopwords is already up-to-date!\n",
      "[nltk_data] Downloading package punkt_tab to\n",
      "[nltk_data]     C:\\Users\\owlzh\\AppData\\Roaming\\nltk_data...\n",
      "[nltk_data]   Package punkt_tab is already up-to-date!\n"
     ]
    }
   ],
   "source": [
    "import numpy as np\n",
    "import matplotlib.pyplot as plt\n",
    "import pandas as pd\n",
    "import scipy.stats as stats\n",
    "from scipy.stats import mannwhitneyu\n",
    "import re\n",
    "import nltk\n",
    "nltk.download('wordnet')  # WordNet is used for lemmatization\n",
    "nltk.download('omw-1.4')  # This is needed for WordNet in some setups\n",
    "nltk.download('stopwords')  # For stopword removal\n",
    "nltk.download('punkt_tab') \n",
    "from nltk.corpus import stopwords\n",
    "from nltk.tokenize import word_tokenize\n",
    "from nltk.stem import WordNetLemmatizer\n",
    "from sklearn.feature_extraction.text import CountVectorizer\n",
    "from scipy.stats import fisher_exact"
   ]
  },
  {
   "cell_type": "markdown",
   "metadata": {},
   "source": [
    "Ease of Use"
   ]
  },
  {
   "cell_type": "code",
   "execution_count": null,
   "metadata": {},
   "outputs": [
    {
     "data": {
      "image/png": "[encoded data removed]",
      "text/plain": [
       "<Figure size 1200x600 with 2 Axes>"
      ]
     },
     "metadata": {},
     "output_type": "display_data"
    }
   ],
   "source": [
    "#Ease of use rate raw data\n",
    "\n",
    "# Data\n",
    "easeOfUse_a = [5, 1, 5, 1, 1, 5, 2, 1, 5, 3, 4, 1, 1, 4, 5, 4, 5, 2, 2, 1, 2, 3]\n",
    "easeOfUse_b = [3, 4, 3, 5, 5, 4, 3, 2, 3, 5, 3, 5, 5, 4, 5, 2, 5, 1, 4, 5, 5, 5]\n",
    "\n",
    "pre_change = np.array(easeOfUse_a)\n",
    "post_change = np.array(easeOfUse_b)\n",
    "\n",
    "# Create subplots (2 histograms in one figure)\n",
    "fig, axes = plt.subplots(1, 2, figsize=(12, 6))\n",
    "\n",
    "# Plot the pre-change histogram\n",
    "axes[0].hist(pre_change, bins=5, alpha=0.7, color='red')\n",
    "axes[0].set_title('Test A Ease of Use Rates')\n",
    "axes[0].set_xlabel('Ease of Use')\n",
    "axes[0].set_ylabel('Frequency')\n",
    "\n",
    "# Plot the post-change histogram\n",
    "axes[1].hist(post_change, bins=5, alpha=0.7, color='green')\n",
    "axes[1].set_title('Test B Ease of Use Rates')\n",
    "axes[1].set_xlabel('Ease of Use')\n",
    "axes[1].set_ylabel('Frequency')\n",
    "\n",
    "# Show the plot\n",
    "plt.show()"
   ]
  },
  {
   "cell_type": "code",
   "execution_count": 3,
   "metadata": {},
   "outputs": [
    {
     "name": "stdout",
     "output_type": "stream",
     "text": [
      "Test A - Shapiro-Wilk test: Statistic = 0.8236972375094795, p-value = 0.0012042191717988985\n",
      "Test B - Shapiro-Wilk test: Statistic = 0.8248919654982608, p-value = 0.0012604299725953213\n",
      "Test A data is not normally distributed\n",
      "Test B data is not normally distributed\n"
     ]
    }
   ],
   "source": [
    "# Shapiro-Wilk test for normality\n",
    "stat_a, p_a = stats.shapiro(easeOfUse_a)\n",
    "stat_b, p_b = stats.shapiro(easeOfUse_b)\n",
    "\n",
    "print(f\"Test A - Shapiro-Wilk test: Statistic = {stat_a}, p-value = {p_a}\")\n",
    "print(f\"Test B - Shapiro-Wilk test: Statistic = {stat_b}, p-value = {p_b}\")\n",
    "\n",
    "# Interpret the result\n",
    "alpha = 0.05\n",
    "if p_a < alpha:\n",
    "    print(\"Test A data is not normally distributed\")\n",
    "else:\n",
    "    print(\"Test A data is normally distributed\")\n",
    "\n",
    "if p_b < alpha:\n",
    "    print(\"Test B data is not normally distributed\")\n",
    "else:\n",
    "    print(\"Test B data is normally distributed\")\n",
    "    \n",
    "#For non-normal distribution, use Mann-Whitney"
   ]
  },
  {
   "cell_type": "code",
   "execution_count": 4,
   "metadata": {},
   "outputs": [
    {
     "name": "stdout",
     "output_type": "stream",
     "text": [
      "U-statistic: 154.5\n",
      "p-value: 0.034771803445622654\n",
      "There is a significant difference between Test A and Test B (reject the null hypothesis).\n"
     ]
    }
   ],
   "source": [
    "#Mann-Whitney U test\n",
    "#Null: The interface changes does not improve ease of use\n",
    "\n",
    "# Mann-Whitney U test\n",
    "u_stat, p_value = mannwhitneyu(easeOfUse_a, easeOfUse_b)\n",
    "\n",
    "# Output results\n",
    "print(f\"U-statistic: {u_stat}\")\n",
    "print(f\"p-value: {p_value}\")\n",
    "\n",
    "# Interpret the result\n",
    "alpha = 0.05\n",
    "if p_value < alpha:\n",
    "    print(\"There is a significant difference between Test A and Test B (reject the null hypothesis).\")\n",
    "else:\n",
    "    print(\"There is no significant difference between Test A and Test B (fail to reject the null hypothesis).\")"
   ]
  },
  {
   "cell_type": "markdown",
   "metadata": {},
   "source": [
    "Ambiguity Perception"
   ]
  },
  {
   "cell_type": "code",
   "execution_count": null,
   "metadata": {},
   "outputs": [],
   "source": [
    "# Raw Data\n",
    "\n",
    "ambiguity_a = feedback = [\n",
    "    \"I didn't experience any confusion with the task.\",\n",
    "    \"Confused as to how to swap in the beginning.\",\n",
    "    \"I didn't encounter any difficulties with this task.\",\n",
    "    \"The placement of my request was unclear, especially why it was categorized under 'Other request'.\",\n",
    "    \"I got stuck after completing the swap and couldn't proceed with the task.\",\n",
    "    \"I didn't face any challenges with the task.\",\n",
    "    \"I was unsure how the swap function worked until I clicked on Diya and found the swap button.\",\n",
    "    \"I was unclear about what the first step of the process was.\",\n",
    "    \"I didn't experience any issues.\",\n",
    "    \"When I clicked on Diya's tab to swap, I was confused to see Tricia's chore listed as well.\",\n",
    "    \"It wasn't obvious where to click—whether it was on 'me', 'sweep', or 'Diya'. I had to guess and press 'sweep' before the 'swap' button appeared.\",\n",
    "    \"I understand I can swap with Diya, but I would prefer to select which chore I want to swap.\",\n",
    "    \"I didn't encounter any issues with this.\",\n",
    "    \"I didn't face any difficulties.\",\n",
    "    \"I did not have trouble, but the button could be clearer.\",\n",
    "    \"No confusion at all! The instructions were clear.\",\n",
    "    \"No confusion, but the font size was too small to easily read the options.\",\n",
    "    \"No, but font size was too small for me to see what to click on.\",\n",
    "    \"Font too small.\",\n",
    "    \"It was not clear if I needed to click the swap button on my chore or Diya's.\",\n",
    "    \"When I clicked on Diya, I ended up seeing Tricia's chore instead.\",\n",
    "    \"The text was a bit too small to read easily.\"\n",
    "]\n",
    "\n",
    "ambiguity_b = [\n",
    "    \"It took me a while to locate the swap button.\",\n",
    "    \"It was okay, but the small font made things a bit difficult.\",\n",
    "    \"I had some trouble locating the Laundry icon, even though it was relatively large.\",\n",
    "    \"I didn't face any challenges.\",\n",
    "    \"No issues, the button was clear and made it easy to complete the task.\",\n",
    "    \"I wasn't sure where to swap my chore. I thought I could swap from my own chore, but the swap button wasn't labeled, so I had to guess.\",\n",
    "    \"The icon was helpful and made it clear where to click.\",\n",
    "    \"Yes, no instructions.\",\n",
    "    \"There were too many buttons to choose from, making it confusing.\",\n",
    "    \"The icon is very clear and easy to understand.\",\n",
    "    \"I initially thought I would need to click 'manage chores', and the names could have been a bit larger for better visibility.\",\n",
    "    \"It was fairly easy, but it would help to use different button colors for different task categories.\",\n",
    "    \"Nope.\",\n",
    "    \"The buttons were too small, the instructions are not clear enough, and the task was tricky with difficult wording.\",\n",
    "    \"The task was clear, but a confirmation popup before swapping would help prevent accidental swaps.\",\n",
    "    \"It was unclear that I had to click on Diya and then choose the ambiguous arrow button to swap.\",\n",
    "    \"Should I swipe or press? It wasn't clear which option to choose.\",\n",
    "    \"The buttons didn't seem to work when I clicked them.\",\n",
    "    \"No issue.\",\n",
    "    \"No issues here.\",\n",
    "    \"I didn't have any trouble.\",\n",
    "    \"Not applicable to my experience.\"\n",
    "]"
   ]
  },
  {
   "cell_type": "code",
   "execution_count": 3,
   "metadata": {},
   "outputs": [],
   "source": [
    "lemmatizer = WordNetLemmatizer()\n",
    "\n",
    "def preprocess_text(text):\n",
    "    # Convert to lowercase\n",
    "    text = text.lower()\n",
    "    # Remove all symbols\n",
    "    text = re.sub(r'[^a-zA-Z0-9\\s]', '', text)\n",
    "    # Tokenize the text\n",
    "    tokens = word_tokenize(text)\n",
    "    # Remove stopwords (common words that don’t contribute much meaning)\n",
    "    stop_words = set(stopwords.words('english'))\n",
    "    tokens = [word for word in tokens if word not in stop_words]\n",
    "    # Lemmatize each token using NLTK's WordNet Lemmatizer\n",
    "    lemmatized_tokens = [lemmatizer.lemmatize(word) for word in tokens]\n",
    "    \n",
    "    return lemmatized_tokens"
   ]
  },
  {
   "cell_type": "code",
   "execution_count": 4,
   "metadata": {},
   "outputs": [
    {
     "name": "stdout",
     "output_type": "stream",
     "text": [
      "[['didnt', 'experience', 'confusion', 'task'], ['confused', 'swap', 'beginning'], ['didnt', 'encounter', 'difficulty', 'task'], ['placement', 'request', 'unclear', 'especially', 'categorized', 'request'], ['got', 'stuck', 'completing', 'swap', 'couldnt', 'proceed', 'task'], ['didnt', 'face', 'challenge', 'task'], ['unsure', 'swap', 'function', 'worked', 'clicked', 'diya', 'found', 'swap', 'button'], ['unclear', 'first', 'step', 'process'], ['didnt', 'experience', 'issue'], ['clicked', 'diyas', 'tab', 'swap', 'confused', 'see', 'tricias', 'chore', 'listed', 'well'], ['wasnt', 'obvious', 'clickwhether', 'sweep', 'diya', 'guess', 'press', 'sweep', 'swap', 'button', 'appeared'], ['understand', 'swap', 'diya', 'would', 'prefer', 'select', 'chore', 'want', 'swap'], ['didnt', 'encounter', 'issue'], ['didnt', 'face', 'difficulty'], ['trouble', 'button', 'could', 'clearer'], ['confusion', 'instruction', 'clear'], ['confusion', 'font', 'size', 'small', 'easily', 'read', 'option'], ['font', 'size', 'small', 'see', 'click'], ['font', 'small'], ['clear', 'needed', 'click', 'swap', 'button', 'chore', 'diyas'], ['clicked', 'diya', 'ended', 'seeing', 'tricias', 'chore', 'instead'], ['text', 'bit', 'small', 'read', 'easily']]\n",
      "--\n",
      "[['took', 'locate', 'swap', 'button'], ['okay', 'small', 'font', 'made', 'thing', 'bit', 'difficult'], ['trouble', 'locating', 'laundry', 'icon', 'even', 'though', 'relatively', 'large'], ['didnt', 'face', 'challenge'], ['issue', 'button', 'clear', 'made', 'easy', 'complete', 'task'], ['wasnt', 'sure', 'swap', 'chore', 'thought', 'could', 'swap', 'chore', 'swap', 'button', 'wasnt', 'labeled', 'guess'], ['icon', 'helpful', 'made', 'clear', 'click'], ['yes', 'instruction'], ['many', 'button', 'choose', 'making', 'confusing'], ['icon', 'clear', 'easy', 'understand'], ['initially', 'thought', 'would', 'need', 'click', 'manage', 'chore', 'name', 'could', 'bit', 'larger', 'better', 'visibility'], ['fairly', 'easy', 'would', 'help', 'use', 'different', 'button', 'color', 'different', 'task', 'category'], ['nope'], ['button', 'small', 'instruction', 'clear', 'enough', 'task', 'tricky', 'difficult', 'wording'], ['task', 'clear', 'confirmation', 'popup', 'swapping', 'would', 'help', 'prevent', 'accidental', 'swap'], ['unclear', 'click', 'diya', 'choose', 'ambiguous', 'arrow', 'button', 'swap'], ['swipe', 'press', 'wasnt', 'clear', 'option', 'choose'], ['button', 'didnt', 'seem', 'work', 'clicked'], ['issue'], ['issue'], ['didnt', 'trouble'], ['applicable', 'experience']]\n"
     ]
    }
   ],
   "source": [
    "# Apply preprocessing to the test data\n",
    "ambiguity_a_cleaned = [preprocess_text(comment) for comment in ambiguity_a]\n",
    "ambiguity_b_cleaned = [preprocess_text(comment) for comment in ambiguity_b]\n",
    "\n",
    "print(ambiguity_a_cleaned)  # See preprocessed output\n",
    "print(\"--\")\n",
    "print(ambiguity_b_cleaned)"
   ]
  },
  {
   "cell_type": "code",
   "execution_count": 9,
   "metadata": {},
   "outputs": [
    {
     "name": "stdout",
     "output_type": "stream",
     "text": [
      "Ambiguity in Test A: [0, 0, 0, 1, 0, 0, 1, 1, 0, 0, 0, 0, 0, 0, 1, 0, 1, 1, 1, 0, 0, 1]\n",
      "Ambiguity in Test B: [0, 1, 1, 0, 0, 0, 0, 0, 0, 0, 0, 0, 0, 1, 0, 1, 0, 0, 0, 0, 1, 0]\n"
     ]
    }
   ],
   "source": [
    "# Define ambiguity-related keywords\n",
    "ambiguity_keywords = [\"unclear\", \"confuse\", \"unsure\", \"dont know\", \"lack\", \"difficult\", \"too small\", \"small\", \"hard\", \"problem\", \"trouble\", \"not\", \"no idea\", \"not clear\", \"not work\", \"dont work\", \"didnt work\"]\n",
    "\n",
    "# Function to check for ambiguity-related terms in the text\n",
    "def categorize_ambiguity(comments):\n",
    "    ambiguity_flags = []\n",
    "    \n",
    "    for comment in comments:\n",
    "        if any(word in comment for word in ambiguity_keywords):\n",
    "            ambiguity_flags.append(1)\n",
    "        else:\n",
    "            ambiguity_flags.append(0)\n",
    "    \n",
    "    return ambiguity_flags\n",
    "\n",
    "# Classify test A and test B comments for ambiguity\n",
    "binomial_ambiguity_a = categorize_ambiguity(ambiguity_a_cleaned)\n",
    "binomial_ambiguity_b = categorize_ambiguity(ambiguity_b_cleaned)\n",
    "\n",
    "print(\"Ambiguity in Test A:\", binomial_ambiguity_a)  # Count of ambiguous keywords in each comment\n",
    "print(\"Ambiguity in Test B:\", binomial_ambiguity_b)"
   ]
  },
  {
   "cell_type": "code",
   "execution_count": 10,
   "metadata": {},
   "outputs": [
    {
     "data": {
      "image/png": "[encoded data removed]",
      "text/plain": [
       "<Figure size 1200x600 with 2 Axes>"
      ]
     },
     "metadata": {},
     "output_type": "display_data"
    }
   ],
   "source": [
    "test_a_counts = [binomial_ambiguity_a.count(0), binomial_ambiguity_a.count(1)]\n",
    "test_b_counts = [binomial_ambiguity_b.count(0), binomial_ambiguity_b.count(1)]\n",
    "\n",
    "# Plot for Test A and Test B\n",
    "fig, axes = plt.subplots(1, 2, figsize=(12, 6))\n",
    "\n",
    "axes[0].bar([0, 1], test_a_counts, color=['green', 'red'])\n",
    "axes[0].set_title('Ambiguity in Test A')\n",
    "axes[0].set_xticks([0, 1])\n",
    "axes[0].set_xticklabels(['No Ambiguity (0)', 'Ambiguity Present (1)'])\n",
    "axes[0].set_ylabel('Count')\n",
    "\n",
    "axes[1].bar([0, 1], test_b_counts, color=['green', 'red'])\n",
    "axes[1].set_title('Ambiguity in Test B')\n",
    "axes[1].set_xticks([0, 1])\n",
    "axes[1].set_xticklabels(['No Ambiguity (0)', 'Ambiguity Present (1)'])\n",
    "axes[1].set_ylabel('Count')\n",
    "\n",
    "plt.tight_layout()\n",
    "plt.show()"
   ]
  },
  {
   "cell_type": "code",
   "execution_count": 11,
   "metadata": {},
   "outputs": [
    {
     "name": "stdout",
     "output_type": "stream",
     "text": [
      "Chi-Square Test p-value: 0.5087076194607042\n"
     ]
    }
   ],
   "source": [
    "# Counts: [Test A 0, Test A 1], [Test B 0, Test B 1]\n",
    "table = np.array([\n",
    "    [binomial_ambiguity_a.count(0), binomial_ambiguity_a.count(1)],  # Test A (No Ambiguity, Ambiguity)\n",
    "    [binomial_ambiguity_b.count(0), binomial_ambiguity_b.count(1)]   # Test B (No Ambiguity, Ambiguity)\n",
    "])\n",
    "\n",
    "# Perform Chi-Square Test\n",
    "chi2, p_value_chi2, dof, expected = stats.chi2_contingency(table)\n",
    "print(\"Chi-Square Test p-value:\", p_value_chi2)\n"
   ]
  }
 ],
 "metadata": {
  "kernelspec": {
   "display_name": "venv",
   "language": "python",
   "name": "python3"
  },
  "language_info": {
   "codemirror_mode": {
    "name": "ipython",
    "version": 3
   },
   "file_extension": ".py",
   "mimetype": "text/x-python",
   "name": "python",
   "nbconvert_exporter": "python",
   "pygments_lexer": "ipython3",
   "version": "3.10.8"
  }
 },
 "nbformat": 4,
 "nbformat_minor": 2
}
