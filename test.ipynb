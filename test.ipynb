{
 "cells": [
  {
   "cell_type": "markdown",
   "metadata": {},
   "source": [
    "### PySpark"
   ]
  },
  {
   "cell_type": "code",
   "execution_count": 3,
   "metadata": {},
   "outputs": [
    {
     "ename": "NameError",
     "evalue": "name 'Pipeline' is not defined",
     "output_type": "error",
     "traceback": [
      "\u001b[1;31m---------------------------------------------------------------------------\u001b[0m",
      "\u001b[1;31mNameError\u001b[0m                                 Traceback (most recent call last)",
      "Cell \u001b[1;32mIn[3], line 23\u001b[0m\n\u001b[0;32m     20\u001b[0m assembler \u001b[38;5;241m=\u001b[39m VectorAssembler(inputCols\u001b[38;5;241m=\u001b[39m[\u001b[38;5;124m\"\u001b[39m\u001b[38;5;124mfeature1\u001b[39m\u001b[38;5;124m\"\u001b[39m, \u001b[38;5;124m\"\u001b[39m\u001b[38;5;124mfeature2\u001b[39m\u001b[38;5;124m\"\u001b[39m], outputCol\u001b[38;5;241m=\u001b[39m\u001b[38;5;124m\"\u001b[39m\u001b[38;5;124mfeatures\u001b[39m\u001b[38;5;124m\"\u001b[39m)\n\u001b[0;32m     22\u001b[0m \u001b[38;5;66;03m# Chain transformations\u001b[39;00m\n\u001b[1;32m---> 23\u001b[0m pipeline \u001b[38;5;241m=\u001b[39m \u001b[43mPipeline\u001b[49m(stages\u001b[38;5;241m=\u001b[39m[indexer, encoder, assembler])\n\u001b[0;32m     24\u001b[0m processed_df \u001b[38;5;241m=\u001b[39m pipeline\u001b[38;5;241m.\u001b[39mfit(df)\u001b[38;5;241m.\u001b[39mtransform(df)\n\u001b[0;32m     26\u001b[0m \u001b[38;5;66;03m# Select final columns\u001b[39;00m\n",
      "\u001b[1;31mNameError\u001b[0m: name 'Pipeline' is not defined"
     ]
    }
   ],
   "source": [
    "from pyspark.sql import SparkSession\n",
    "from pyspark.ml.feature import StringIndexer, OneHotEncoder, VectorAssembler\n",
    "from pyspark.sql.functions import col\n",
    "\n",
    "# Create Spark session\n",
    "spark = SparkSession.builder.appName(\"Preprocessing\").getOrCreate()\n",
    "\n",
    "# Load data\n",
    "df = spark.read.csv(\"wikileaks_parsed.csv\", header=True, inferSchema=True)\n",
    "\n",
    "# Handle missing values\n",
    "df = df.na.fill(0)  # Fill numeric nulls with 0\n",
    "df = df.na.fill(\"unknown\")  # Fill string nulls\n",
    "\n",
    "# Convert categorical to numeric\n",
    "indexer = StringIndexer(inputCols=[\"category\"], outputCols=[\"categoryIndex\"])\n",
    "encoder = OneHotEncoder(inputCols=[\"categoryIndex\"], outputCols=[\"categoryVec\"])\n",
    "\n",
    "# Scale numeric features\n",
    "assembler = VectorAssembler(inputCols=[\"feature1\", \"feature2\"], outputCol=\"features\")\n",
    "\n",
    "# Chain transformations\n",
    "pipeline = Pipeline(stages=[indexer, encoder, assembler])\n",
    "processed_df = pipeline.fit(df).transform(df)\n",
    "\n",
    "# Select final columns\n",
    "final_df = processed_df.select(\"categoryVec\", \"features\", \"label\")"
   ]
  },
  {
   "cell_type": "code",
   "execution_count": 5,
   "metadata": {},
   "outputs": [
    {
     "ename": "SyntaxError",
     "evalue": "unexpected character after line continuation character (2054899559.py, line 6)",
     "output_type": "error",
     "traceback": [
      "\u001b[1;36m  Cell \u001b[1;32mIn[5], line 6\u001b[1;36m\u001b[0m\n\u001b[1;33m    spark = SparkSession.builder \\\u001b[0m\n\u001b[1;37m                                  ^\u001b[0m\n\u001b[1;31mSyntaxError\u001b[0m\u001b[1;31m:\u001b[0m unexpected character after line continuation character\n"
     ]
    }
   ],
   "source": [
    "from pyspark.sql import SparkSession \n",
    "import pyspark.pandas as ps \n",
    "import pandas as pd \n",
    " \n",
    "# Create Spark session \n",
    "spark = SparkSession.builder \\ \n",
    "    .appName(\"ExcelToSpark\") \\ \n",
    "    .getOrCreate() \n",
    " \n",
    " \n",
    "# Read Excel file \n",
    "pf = pd.read_excel(\"C:/Users/Denxi/Downloads/news_excerpts_parsed.xlsx\") \n",
    " \n",
    "# Convert to Spark DataFrame \n",
    "df = spark.createDataFrame(pf) \n",
    " \n",
    "# Show the DataFrame \n",
    "print(df) \n",
    "df.show()"
   ]
  }
 ],
 "metadata": {
  "kernelspec": {
   "display_name": "Python 3",
   "language": "python",
   "name": "python3"
  },
  "language_info": {
   "codemirror_mode": {
    "name": "ipython",
    "version": 3
   },
   "file_extension": ".py",
   "mimetype": "text/x-python",
   "name": "python",
   "nbconvert_exporter": "python",
   "pygments_lexer": "ipython3",
   "version": "3.12.3"
  }
 },
 "nbformat": 4,
 "nbformat_minor": 2
}
